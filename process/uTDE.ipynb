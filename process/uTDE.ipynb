{
 "nbformat": 4,
 "nbformat_minor": 2,
 "metadata": {
  "language_info": {
   "name": "python",
   "codemirror_mode": {
    "name": "ipython",
    "version": 3
   },
   "version": "3.7.4-final"
  },
  "orig_nbformat": 2,
  "file_extension": ".py",
  "mimetype": "text/x-python",
  "name": "python",
  "npconvert_exporter": "python",
  "pygments_lexer": "ipython3",
  "version": 3,
  "kernelspec": {
   "name": "python37464bitbaseconda0f9056bee1b142bda9be6ca849974878",
   "display_name": "Python 3.7.4 64-bit ('base': conda)"
  }
 },
 "cells": [
  {
   "cell_type": "code",
   "execution_count": 1,
   "metadata": {},
   "outputs": [
    {
     "name": "stdout",
     "output_type": "stream",
     "text": "Populating the interactive namespace from numpy and matplotlib\n"
    }
   ],
   "source": [
    "%pylab inline\n",
    "%config InlineBackend.figure_format = 'retina'\n",
    "import pandas as pd\n",
    "import seaborn as sns\n",
    "import threading\n",
    "import os\n",
    "from scipy import optimize\n",
    "\n",
    "\n",
    "#plt.style.use('seaborn-deep')\n",
    "plt.rc('grid', linestyle=\"--\", color='gray')\n",
    "#plt.rc('xtick', direction = 'in')\n",
    "#plt.rc('ytick', direction= 'in')\n",
    "# @working path\n",
    "FIG_PATH     = '../figs/'\n",
    "DATA_PATH    = '../code/'\n",
    "\n",
    "# @global settings\n",
    "WEB_FIG_DPI  = 600\n",
    "FIG_DPI      = 800\n",
    "FIG_EXT      = '.png'\n",
    "WEB_FIG_EXT  = '.png'\n",
    "\n",
    "# @global functions\n",
    "def savefig(handler,name, fig_ext = FIG_EXT, web_fig_ext = WEB_FIG_EXT):\n",
    "    if name != '':\n",
    "        handler.savefig(FIG_PATH + name + fig_ext, dpi = FIG_DPI,bbox_inches = 'tight', pad_inches = 0.1)"
   ]
  },
  {
   "cell_type": "code",
   "execution_count": 63,
   "metadata": {},
   "outputs": [],
   "source": [
    "sec = 1/1.593e3"
   ]
  },
  {
   "cell_type": "code",
   "execution_count": 64,
   "metadata": {},
   "outputs": [
    {
     "data": {
      "text/plain": "4.347826086956522e-05"
     },
     "execution_count": 64,
     "metadata": {},
     "output_type": "execute_result"
    }
   ],
   "source": [
    "(3000*10)/6.9e8"
   ]
  },
  {
   "cell_type": "code",
   "execution_count": 72,
   "metadata": {},
   "outputs": [],
   "source": [
    "def load_mdot(name):\n",
    "    mdot_file = np.loadtxt(name)\n",
    "\n",
    "    col_names = ['time', 'mdot', 'macc']\n",
    "\n",
    "    data_frame = {}\n",
    "    for i, key in enumerate(col_names):\n",
    "        data_frame[key]=mdot_file[:,i]\n",
    "    return data_frame\n",
    "\n",
    "\n",
    "labels = ['$R_{\\\\rm p}=R_{\\\\rm t}=2.15 R_\\odot$', '$R_{\\\\rm p}=0.9R_{\\\\rm t}=1.94 R_\\odot$', '$R_{\\\\rm p}=0.6R_{\\\\rm t}=1.29 R_\\odot$']\n",
    "\n",
    "names = ['rp1', 'rp09', 'rp06']\n",
    "\n",
    "mdots = [ load_mdot('../' + name + '/tde.mdot') for name in names]"
   ]
  },
  {
   "cell_type": "code",
   "execution_count": 73,
   "metadata": {},
   "outputs": [
    {
     "name": "stdout",
     "output_type": "stream",
     "text": "[2.13108380e+01 4.26398043e+01 6.39477388e+01 ... 3.52917516e+04\n 3.52917678e+04 3.52917839e+04] [0. 0. 0. ... 0. 0. 0.]\n"
    }
   ],
   "source": [
    "print(data_frame['time']/sec, data_frame['mdot'])"
   ]
  },
  {
   "cell_type": "code",
   "execution_count": 76,
   "metadata": {},
   "outputs": [
    {
     "data": {
      "text/plain": "Text(0, 0.5, '$\\\\dot{M}$ [M$_{\\\\odot}$ s$^{-1}$]')"
     },
     "execution_count": 76,
     "metadata": {},
     "output_type": "execute_result"
    },
    {
     "data": {
      "image/png": "[encoded data removed]",
      "text/plain": "<Figure size 288x216 with 1 Axes>"
     },
     "metadata": {
      "image/png": {
       "height": 208,
       "width": 285
      },
      "needs_background": "light"
     },
     "output_type": "display_data"
    }
   ],
   "source": [
    "fig = plt.figure(figsize(4,3))\n",
    "ax = fig.add_subplot(111)\n",
    "\n",
    "for mdot, l in zip(mdots, labels):\n",
    "    ax.plot(mdot['time']/sec, mdot['macc']*sec, label=l)\n",
    "plt.xscale('log')\n",
    "plt.yscale('log')\n",
    "plt.legend()\n",
    "plt.xlabel('t [s]')\n",
    "plt.ylabel('$\\dot{M}$ [M$_{\\odot}$ s$^{-1}$]')"
   ]
  },
  {
   "cell_type": "code",
   "execution_count": null,
   "metadata": {},
   "outputs": [],
   "source": []
  }
 ]
}