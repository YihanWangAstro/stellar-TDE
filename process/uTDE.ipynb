{
 "cells": [
  {
   "cell_type": "code",
   "execution_count": 3,
   "metadata": {},
   "outputs": [
    {
     "name": "stdout",
     "output_type": "stream",
     "text": [
      "Populating the interactive namespace from numpy and matplotlib\n"
     ]
    }
   ],
   "source": [
    "%pylab inline\n",
    "%config InlineBackend.figure_format = 'retina'\n",
    "import pandas as pd\n",
    "import seaborn as sns\n",
    "import threading\n",
    "import os\n",
    "from scipy import optimize\n",
    "\n",
    "\n",
    "#plt.style.use('seaborn-deep')\n",
    "plt.rc('grid', linestyle=\"--\", color='gray')\n",
    "#plt.rc('xtick', direction = 'in')\n",
    "#plt.rc('ytick', direction= 'in')\n",
    "# @working path\n",
    "FIG_PATH     = './'\n",
    "DATA_PATH    = '../code/'\n",
    "\n",
    "# @global settings\n",
    "WEB_FIG_DPI  = 600\n",
    "FIG_DPI      = 800\n",
    "FIG_EXT      = '.png'\n",
    "WEB_FIG_EXT  = '.png'\n",
    "\n",
    "# @global functions\n",
    "def savefig(handler,name, fig_ext = FIG_EXT, web_fig_ext = WEB_FIG_EXT):\n",
    "    if name != '':\n",
    "        handler.savefig(FIG_PATH + name + fig_ext, dpi = FIG_DPI,bbox_inches = 'tight', pad_inches = 0.1)"
   ]
  },
  {
   "cell_type": "code",
   "execution_count": null,
   "metadata": {},
   "outputs": [],
   "source": [
    "sec = 1/1.593e3"
   ]
  },
  {
   "cell_type": "code",
   "execution_count": null,
   "metadata": {},
   "outputs": [],
   "source": [
    "(3000*10)/6.9e8"
   ]
  },
  {
   "cell_type": "code",
   "execution_count": null,
   "metadata": {},
   "outputs": [],
   "source": [
    "def load_mdot(name):\n",
    "    mdot_file = np.loadtxt(name)\n",
    "\n",
    "    col_names = ['time', 'mdot', 'macc']\n",
    "\n",
    "    data_frame = {}\n",
    "    for i, key in enumerate(col_names):\n",
    "        data_frame[key]=mdot_file[:,i]\n",
    "    return data_frame\n",
    "\n",
    "\n",
    "labels = ['$R_{\\\\rm p}=R_{\\\\rm t}=2.15 R_\\odot$', '$R_{\\\\rm p}=0.9R_{\\\\rm t}=1.94 R_\\odot$', '$R_{\\\\rm p}=0.6R_{\\\\rm t}=1.29 R_\\odot$']\n",
    "\n",
    "names = [ 'rp09', 'rp06']\n",
    "\n",
    "mdots = [ load_mdot('../low_N/' + name + '/tde.mdot') for name in names]"
   ]
  },
  {
   "cell_type": "code",
   "execution_count": null,
   "metadata": {},
   "outputs": [],
   "source": [
    "fig = plt.figure(figsize(4,3))\n",
    "ax = fig.add_subplot(111)\n",
    "\n",
    "for mdot, l in zip(mdots, labels):\n",
    "    ax.plot(mdot['time']/sec, mdot['macc']*sec, label=l)\n",
    "plt.xscale('log')\n",
    "plt.yscale('log')\n",
    "plt.legend()\n",
    "plt.xlabel('t [s]')\n",
    "plt.ylabel('$\\dot{M}$ [M$_{\\odot}$ s$^{-1}$]')\n",
    "#plt.xlim([1e3,1e5])\n",
    "savefig(plt, 'mdot')"
   ]
  },
  {
   "cell_type": "code",
   "execution_count": null,
   "metadata": {},
   "outputs": [],
   "source": [
    "Ms = 1.98e30\n",
    "G = 6.67e-11 \n",
    "Mb = 10*Ms\n",
    "\n",
    "Rs = 3000 * Mb / Ms\n",
    "\n",
    "r = np.linspace(1, 100,1000)*Rs\n",
    "\n",
    "T = 2*np.pi*np.sqrt((10*Rs)**3/G/Mb)\n",
    "print(T)\n",
    "plt.plot(r/Rs,T)\n",
    "plt.axhline(1e-3/sec)\n",
    "plt.yscale('log')\n"
   ]
  },
  {
   "cell_type": "code",
   "execution_count": 6,
   "metadata": {},
   "outputs": [
    {
     "ename": "TabError",
     "evalue": "inconsistent use of tabs and spaces in indentation (pyphantom.py, line 64)",
     "output_type": "error",
     "traceback": [
      "Traceback \u001b[0;36m(most recent call last)\u001b[0m:\n",
      "  File \u001b[1;32m\"/home/yihan/anaconda3/lib/python3.7/site-packages/IPython/core/interactiveshell.py\"\u001b[0m, line \u001b[1;32m3331\u001b[0m, in \u001b[1;35mrun_code\u001b[0m\n    exec(code_obj, self.user_global_ns, self.user_ns)\n",
      "  File \u001b[1;32m\"<ipython-input-6-9a6a529cc7e8>\"\u001b[0m, line \u001b[1;32m1\u001b[0m, in \u001b[1;35m<module>\u001b[0m\n    from libanalysis import PhantomAnalysis as pa\n",
      "  File \u001b[1;32m\"/home/yihan/projects/stellar-TDE/process/libanalysis.py\"\u001b[0m, line \u001b[1;32m3\u001b[0m, in \u001b[1;35m<module>\u001b[0m\n    from phantomanalysis import PhantomAnalysis\n",
      "\u001b[0;36m  File \u001b[0;32m\"/home/yihan/repositories/phantom//scripts/pyphantom/phantomanalysis.py\"\u001b[0;36m, line \u001b[0;32m7\u001b[0;36m, in \u001b[0;35m<module>\u001b[0;36m\u001b[0m\n\u001b[0;31m    import pyphantom\u001b[0m\n",
      "\u001b[0;36m  File \u001b[0;32m\"/home/yihan/repositories/phantom//scripts/pyphantom/pyphantom.py\"\u001b[0;36m, line \u001b[0;32m64\u001b[0m\n\u001b[0;31m    if k in A.keys():\u001b[0m\n\u001b[0m                     ^\u001b[0m\n\u001b[0;31mTabError\u001b[0m\u001b[0;31m:\u001b[0m inconsistent use of tabs and spaces in indentation\n"
     ]
    }
   ],
   "source": [
    "from libanalysis import PhantomAnalysis as pa"
   ]
  },
  {
   "cell_type": "code",
   "execution_count": null,
   "metadata": {},
   "outputs": [],
   "source": []
  }
 ],
 "metadata": {
  "file_extension": ".py",
  "kernelspec": {
   "display_name": "Python 3.7.4 64-bit ('base': conda)",
   "language": "python",
   "name": "python37464bitbaseconda0f9056bee1b142bda9be6ca849974878"
  },
  "language_info": {
   "codemirror_mode": {
    "name": "ipython",
    "version": 3
   },
   "file_extension": ".py",
   "mimetype": "text/x-python",
   "name": "python",
   "nbconvert_exporter": "python",
   "pygments_lexer": "ipython3",
   "version": "3.7.6"
  },
  "mimetype": "text/x-python",
  "name": "python",
  "npconvert_exporter": "python",
  "pygments_lexer": "ipython3",
  "version": 3
 },
 "nbformat": 4,
 "nbformat_minor": 2
}
